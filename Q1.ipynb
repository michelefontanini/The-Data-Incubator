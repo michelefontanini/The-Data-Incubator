{
 "cells": [
  {
   "cell_type": "code",
   "execution_count": 10,
   "metadata": {
    "collapsed": true
   },
   "outputs": [],
   "source": [
    "import pandas as pd\n",
    "import numpy as np\n",
    "import heapq"
   ]
  },
  {
   "cell_type": "markdown",
   "metadata": {},
   "source": [
    "Q1: You see a stream of TT numbers, each ranged 1 through 10 (inclusive), and store the numbers into two registers. The first is in a 'max' register which holds the largest NN numbers encountered. The second is in the 'last' register which holds the last NN numbers encountered. Let MM be the product of the numbers in the 'max' register and LL be the product of the numbers in the 'last' register after reading TT values from the stream."
   ]
  },
  {
   "cell_type": "markdown",
   "metadata": {},
   "source": [
    "Consider the case where N=2N=2 and T=8T=8.\n",
    "What is the mean of M−LM−L?"
   ]
  },
  {
   "cell_type": "code",
   "execution_count": 15,
   "metadata": {
    "collapsed": false
   },
   "outputs": [],
   "source": [
    "T_num = 8\n",
    "N_num = 2\n",
    "stream = np.random.random_integers(1,10, size=T_num)\n",
    "reg_max = heapq.nlargest( N_num, stream)\n",
    "reg_last = stream[-N_num:]\n",
    "MM = np.prod(reg_max)\n",
    "LL = np.prod(reg_last)"
   ]
  },
  {
   "cell_type": "code",
   "execution_count": 16,
   "metadata": {
    "collapsed": false
   },
   "outputs": [
    {
     "data": {
      "text/plain": [
       "80"
      ]
     },
     "execution_count": 16,
     "metadata": {},
     "output_type": "execute_result"
    }
   ],
   "source": [
    "MM"
   ]
  },
  {
   "cell_type": "code",
   "execution_count": null,
   "metadata": {
    "collapsed": true
   },
   "outputs": [],
   "source": []
  }
 ],
 "metadata": {
  "kernelspec": {
   "display_name": "Python 2",
   "language": "python",
   "name": "python2"
  },
  "language_info": {
   "codemirror_mode": {
    "name": "ipython",
    "version": 2
   },
   "file_extension": ".py",
   "mimetype": "text/x-python",
   "name": "python",
   "nbconvert_exporter": "python",
   "pygments_lexer": "ipython2",
   "version": "2.7.9"
  }
 },
 "nbformat": 4,
 "nbformat_minor": 0
}
